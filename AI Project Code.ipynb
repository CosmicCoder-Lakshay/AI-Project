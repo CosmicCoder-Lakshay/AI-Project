{
 "cells": [
  {
   "cell_type": "code",
   "execution_count": null,
   "metadata": {
    "_cell_guid": "79c7e3d0-c299-4dcb-8224-4455121ee9b0",
    "_uuid": "d629ff2d2480ee46fbb7e2d37f6b5fab8052498a",
    "execution": {
     "iopub.execute_input": "2024-10-23T13:18:16.308616Z",
     "iopub.status.busy": "2024-10-23T13:18:16.308265Z",
     "iopub.status.idle": "2024-10-23T13:18:21.064279Z",
     "shell.execute_reply": "2024-10-23T13:18:21.063562Z",
     "shell.execute_reply.started": "2024-10-23T13:18:16.308582Z"
    },
    "trusted": true
   },
   "outputs": [],
   "source": [
    "import os\n",
    "import cv2\n",
    "import random\n",
    "import numpy as np\n",
    "import pandas as pd\n",
    "import matplotlib.pyplot as plt\n",
    "\n",
    "import tensorflow as tf\n",
    "from keras import backend as K\n",
    "from keras.models import Model\n",
    "from keras.layers import Input, Conv2D, MaxPooling2D, Reshape, Bidirectional, LSTM, Dense, Lambda, Activation, BatchNormalization, Dropout\n",
    "from keras.optimizers import Adam"
   ]
  },
  {
   "cell_type": "code",
   "execution_count": null,
   "metadata": {
    "execution": {
     "iopub.execute_input": "2024-10-23T13:18:21.066756Z",
     "iopub.status.busy": "2024-10-23T13:18:21.066327Z",
     "iopub.status.idle": "2024-10-23T13:18:21.54342Z",
     "shell.execute_reply": "2024-10-23T13:18:21.542739Z",
     "shell.execute_reply.started": "2024-10-23T13:18:21.066712Z"
    },
    "trusted": true
   },
   "outputs": [],
   "source": [
    "train = pd.read_csv('/kaggle/input/handwriting-recognition/written_name_train_v2.csv')\n",
    "valid = pd.read_csv('/kaggle/input/handwriting-recognition/written_name_validation_v2.csv')\n",
    "test = pd.read_csv('/kaggle/input/handwriting-recognition/written_name_test_v2.csv')"
   ]
  },
  {
   "cell_type": "code",
   "execution_count": null,
   "metadata": {
    "execution": {
     "iopub.execute_input": "2024-10-23T13:18:21.544913Z",
     "iopub.status.busy": "2024-10-23T13:18:21.544637Z",
     "iopub.status.idle": "2024-10-23T13:18:22.082163Z",
     "shell.execute_reply": "2024-10-23T13:18:22.081292Z",
     "shell.execute_reply.started": "2024-10-23T13:18:21.544886Z"
    },
    "trusted": true
   },
   "outputs": [],
   "source": [
    "plt.figure(figsize=(15, 10))\n",
    "\n",
    "for i in range(6):\n",
    "    ax = plt.subplot(2, 3, i+1)\n",
    "    img_dir = '/kaggle/input/handwriting-recognition/train_v2/train/'+train.loc[i, 'FILENAME']\n",
    "    image = cv2.imread(img_dir, cv2.IMREAD_GRAYSCALE)\n",
    "    plt.imshow(image, cmap = 'gray')\n",
    "    plt.title(train.loc[i, 'IDENTITY'], fontsize=12)\n",
    "    plt.axis('off')\n",
    "\n",
    "plt.subplots_adjust(wspace=0.2, hspace=-0.8)"
   ]
  },
  {
   "cell_type": "code",
   "execution_count": null,
   "metadata": {
    "execution": {
     "iopub.execute_input": "2024-10-23T13:18:22.083732Z",
     "iopub.status.busy": "2024-10-23T13:18:22.08346Z",
     "iopub.status.idle": "2024-10-23T13:18:22.089266Z",
     "shell.execute_reply": "2024-10-23T13:18:22.088399Z",
     "shell.execute_reply.started": "2024-10-23T13:18:22.083706Z"
    },
    "trusted": true
   },
   "outputs": [],
   "source": [
    "train_size = len(train)\n",
    "print(f\"Number of samples in the training set: {train_size}\")\n",
    "\n",
    "valid_size = len(valid)\n",
    "print(f\"Number of samples in the validation set: {valid_size}\")\n",
    "\n",
    "test_size = len(test)\n",
    "print(f\"Number of samples in the testing set: {test_size}\")"
   ]
  },
  {
   "cell_type": "code",
   "execution_count": null,
   "metadata": {
    "execution": {
     "iopub.execute_input": "2024-10-23T13:18:22.092553Z",
     "iopub.status.busy": "2024-10-23T13:18:22.092236Z",
     "iopub.status.idle": "2024-10-23T13:18:22.144922Z",
     "shell.execute_reply": "2024-10-23T13:18:22.144113Z",
     "shell.execute_reply.started": "2024-10-23T13:18:22.092496Z"
    },
    "trusted": true
   },
   "outputs": [],
   "source": [
    "print(\"Number of NaNs in train set      : \", train['IDENTITY'].isnull().sum())\n",
    "print(\"Number of NaNs in validation set : \", valid['IDENTITY'].isnull().sum())"
   ]
  },
  {
   "cell_type": "code",
   "execution_count": null,
   "metadata": {
    "execution": {
     "iopub.execute_input": "2024-10-23T13:18:22.146472Z",
     "iopub.status.busy": "2024-10-23T13:18:22.146197Z",
     "iopub.status.idle": "2024-10-23T13:18:22.261174Z",
     "shell.execute_reply": "2024-10-23T13:18:22.260488Z",
     "shell.execute_reply.started": "2024-10-23T13:18:22.146443Z"
    },
    "trusted": true
   },
   "outputs": [],
   "source": [
    "train.dropna(axis=0, inplace=True)\n",
    "valid.dropna(axis=0, inplace=True)"
   ]
  },
  {
   "cell_type": "code",
   "execution_count": null,
   "metadata": {
    "execution": {
     "iopub.execute_input": "2024-10-23T13:18:22.262901Z",
     "iopub.status.busy": "2024-10-23T13:18:22.262541Z",
     "iopub.status.idle": "2024-10-23T13:18:22.640803Z",
     "shell.execute_reply": "2024-10-23T13:18:22.640031Z",
     "shell.execute_reply.started": "2024-10-23T13:18:22.262862Z"
    },
    "trusted": true
   },
   "outputs": [],
   "source": [
    "unreadable = train[train['IDENTITY'] == 'UNREADABLE']\n",
    "unreadable.reset_index(inplace = True, drop=True)\n",
    "\n",
    "plt.figure(figsize=(15, 10))\n",
    "\n",
    "for i in range(6):\n",
    "    ax = plt.subplot(2, 3, i+1)\n",
    "    img_dir = '/kaggle/input/handwriting-recognition/train_v2/train/'+unreadable.loc[i, 'FILENAME']\n",
    "    image = cv2.imread(img_dir, cv2.IMREAD_GRAYSCALE)\n",
    "    plt.imshow(image, cmap = 'gray')\n",
    "    plt.title(unreadable.loc[i, 'IDENTITY'], fontsize=12)\n",
    "    plt.axis('off')\n",
    "\n",
    "plt.subplots_adjust(wspace=0.2, hspace=-0.8)"
   ]
  },
  {
   "cell_type": "code",
   "execution_count": null,
   "metadata": {
    "execution": {
     "iopub.execute_input": "2024-10-23T13:18:22.642178Z",
     "iopub.status.busy": "2024-10-23T13:18:22.641918Z",
     "iopub.status.idle": "2024-10-23T13:18:22.715899Z",
     "shell.execute_reply": "2024-10-23T13:18:22.715238Z",
     "shell.execute_reply.started": "2024-10-23T13:18:22.642152Z"
    },
    "trusted": true
   },
   "outputs": [],
   "source": [
    "train = train[train['IDENTITY'] != 'UNREADABLE']\n",
    "valid = valid[valid['IDENTITY'] != 'UNREADABLE']"
   ]
  },
  {
   "cell_type": "code",
   "execution_count": null,
   "metadata": {
    "execution": {
     "iopub.execute_input": "2024-10-23T13:18:22.717122Z",
     "iopub.status.busy": "2024-10-23T13:18:22.71687Z",
     "iopub.status.idle": "2024-10-23T13:18:22.952452Z",
     "shell.execute_reply": "2024-10-23T13:18:22.951726Z",
     "shell.execute_reply.started": "2024-10-23T13:18:22.717096Z"
    },
    "trusted": true
   },
   "outputs": [],
   "source": [
    "train['IDENTITY'] = train['IDENTITY'].str.upper()\n",
    "valid['IDENTITY'] = valid['IDENTITY'].str.upper()"
   ]
  },
  {
   "cell_type": "code",
   "execution_count": null,
   "metadata": {
    "execution": {
     "iopub.execute_input": "2024-10-23T13:18:22.953682Z",
     "iopub.status.busy": "2024-10-23T13:18:22.953406Z",
     "iopub.status.idle": "2024-10-23T13:18:22.958137Z",
     "shell.execute_reply": "2024-10-23T13:18:22.957337Z",
     "shell.execute_reply.started": "2024-10-23T13:18:22.953655Z"
    },
    "trusted": true
   },
   "outputs": [],
   "source": [
    "train.reset_index(inplace = True, drop=True) \n",
    "valid.reset_index(inplace = True, drop=True)"
   ]
  },
  {
   "cell_type": "code",
   "execution_count": null,
   "metadata": {
    "execution": {
     "iopub.execute_input": "2024-10-23T13:18:22.959821Z",
     "iopub.status.busy": "2024-10-23T13:18:22.959507Z",
     "iopub.status.idle": "2024-10-23T13:18:22.967657Z",
     "shell.execute_reply": "2024-10-23T13:18:22.966782Z",
     "shell.execute_reply.started": "2024-10-23T13:18:22.95978Z"
    },
    "trusted": true
   },
   "outputs": [],
   "source": [
    "train_size = len(train)\n",
    "print(f\"Number of samples in the training set: {train_size}\")\n",
    "\n",
    "valid_size = len(valid)\n",
    "print(f\"Number of samples in the validation set: {valid_size}\")\n",
    "\n",
    "test_size = len(test)\n",
    "print(f\"Number of samples in the testing set: {test_size}\")"
   ]
  },
  {
   "cell_type": "code",
   "execution_count": null,
   "metadata": {
    "execution": {
     "iopub.execute_input": "2024-10-23T13:18:22.969303Z",
     "iopub.status.busy": "2024-10-23T13:18:22.968923Z",
     "iopub.status.idle": "2024-10-23T13:18:22.976533Z",
     "shell.execute_reply": "2024-10-23T13:18:22.975598Z",
     "shell.execute_reply.started": "2024-10-23T13:18:22.969262Z"
    },
    "trusted": true
   },
   "outputs": [],
   "source": [
    "def preprocess(img):\n",
    "    (h, w) = img.shape\n",
    "    \n",
    "    final_img = np.ones([64, 256])*255 # blank white image\n",
    "    \n",
    "    # crop\n",
    "    if w > 256:\n",
    "        img = img[:, :256]\n",
    "        \n",
    "    if h > 64:\n",
    "        img = img[:64, :]\n",
    "    \n",
    "    \n",
    "    final_img[:h, :w] = img\n",
    "    return cv2.rotate(final_img, cv2.ROTATE_90_CLOCKWISE)"
   ]
  },
  {
   "cell_type": "code",
   "execution_count": null,
   "metadata": {
    "execution": {
     "iopub.execute_input": "2024-10-23T13:18:27.429985Z",
     "iopub.status.busy": "2024-10-23T13:18:27.429545Z",
     "iopub.status.idle": "2024-10-23T13:18:27.434361Z",
     "shell.execute_reply": "2024-10-23T13:18:27.433501Z",
     "shell.execute_reply.started": "2024-10-23T13:18:27.429945Z"
    },
    "trusted": true
   },
   "outputs": [],
   "source": [
    "train_size = 30000\n",
    "valid_size= 3000"
   ]
  },
  {
   "cell_type": "code",
   "execution_count": null,
   "metadata": {
    "execution": {
     "iopub.execute_input": "2024-10-23T13:18:29.467465Z",
     "iopub.status.busy": "2024-10-23T13:18:29.467028Z",
     "iopub.status.idle": "2024-10-23T13:21:53.855634Z",
     "shell.execute_reply": "2024-10-23T13:21:53.854611Z",
     "shell.execute_reply.started": "2024-10-23T13:18:29.467415Z"
    },
    "trusted": true
   },
   "outputs": [],
   "source": [
    "train_x = []\n",
    "\n",
    "for i in range(train_size):\n",
    "    img_dir = '/kaggle/input/handwriting-recognition/train_v2/train/'+train.loc[i, 'FILENAME']\n",
    "    image = cv2.imread(img_dir, cv2.IMREAD_GRAYSCALE)\n",
    "    image = preprocess(image)\n",
    "    image = image/255.\n",
    "    train_x.append(image)"
   ]
  },
  {
   "cell_type": "code",
   "execution_count": null,
   "metadata": {
    "execution": {
     "iopub.execute_input": "2024-10-23T13:21:53.858261Z",
     "iopub.status.busy": "2024-10-23T13:21:53.857891Z",
     "iopub.status.idle": "2024-10-23T13:22:14.197538Z",
     "shell.execute_reply": "2024-10-23T13:22:14.196545Z",
     "shell.execute_reply.started": "2024-10-23T13:21:53.858222Z"
    },
    "trusted": true
   },
   "outputs": [],
   "source": [
    "valid_x = []\n",
    "\n",
    "for i in range(valid_size):\n",
    "    img_dir = '/kaggle/input/handwriting-recognition/validation_v2/validation/'+valid.loc[i, 'FILENAME']\n",
    "    image = cv2.imread(img_dir, cv2.IMREAD_GRAYSCALE)\n",
    "    image = preprocess(image)\n",
    "    image = image/255.\n",
    "    valid_x.append(image)"
   ]
  },
  {
   "cell_type": "code",
   "execution_count": null,
   "metadata": {
    "execution": {
     "iopub.execute_input": "2024-10-23T13:22:14.199034Z",
     "iopub.status.busy": "2024-10-23T13:22:14.198772Z",
     "iopub.status.idle": "2024-10-23T13:22:15.433135Z",
     "shell.execute_reply": "2024-10-23T13:22:15.43212Z",
     "shell.execute_reply.started": "2024-10-23T13:22:14.199008Z"
    },
    "trusted": true
   },
   "outputs": [],
   "source": [
    "train_x = np.array(train_x).reshape(-1, 256, 64, 1)\n",
    "valid_x = np.array(valid_x).reshape(-1, 256, 64, 1)"
   ]
  },
  {
   "cell_type": "code",
   "execution_count": null,
   "metadata": {
    "execution": {
     "iopub.execute_input": "2024-10-23T13:22:15.43486Z",
     "iopub.status.busy": "2024-10-23T13:22:15.434553Z",
     "iopub.status.idle": "2024-10-23T13:22:15.439549Z",
     "shell.execute_reply": "2024-10-23T13:22:15.438728Z",
     "shell.execute_reply.started": "2024-10-23T13:22:15.434829Z"
    },
    "trusted": true
   },
   "outputs": [],
   "source": [
    "print(f\"Shape of preprocessed training data: {train_x.shape}\")  # First value is the number of samples\n",
    "print(f\"Shape of preprocessed validation data: {valid_x.shape}\")\n",
    "# Assuming test data is preprocessed similarly as train_x and valid_x\n",
    "# print(f\"Shape of preprocessed testing data: {test_x.shape}\")\n"
   ]
  },
  {
   "cell_type": "code",
   "execution_count": null,
   "metadata": {
    "execution": {
     "iopub.execute_input": "2024-10-23T13:22:15.442871Z",
     "iopub.status.busy": "2024-10-23T13:22:15.442491Z",
     "iopub.status.idle": "2024-10-23T13:22:15.450776Z",
     "shell.execute_reply": "2024-10-23T13:22:15.449959Z",
     "shell.execute_reply.started": "2024-10-23T13:22:15.442835Z"
    },
    "trusted": true
   },
   "outputs": [],
   "source": [
    "alphabets = u\"ABCDEFGHIJKLMNOPQRSTUVWXYZ-' \"\n",
    "max_str_len = 24 # max length of input labels\n",
    "num_of_characters = len(alphabets) + 1 # +1 for ctc pseudo blank\n",
    "num_of_timestamps = 64 # max length of predicted labels\n",
    "\n",
    "\n",
    "def label_to_num(label):\n",
    "    label_num = []\n",
    "    for ch in label:\n",
    "        label_num.append(alphabets.find(ch))\n",
    "        \n",
    "    return np.array(label_num)\n",
    "\n",
    "def num_to_label(num):\n",
    "    ret = \"\"\n",
    "    for ch in num:\n",
    "        if ch == -1:  # CTC Blank\n",
    "            break\n",
    "        else:\n",
    "            ret+=alphabets[ch]\n",
    "    return ret"
   ]
  },
  {
   "cell_type": "code",
   "execution_count": null,
   "metadata": {
    "execution": {
     "iopub.execute_input": "2024-10-23T13:22:15.453001Z",
     "iopub.status.busy": "2024-10-23T13:22:15.452631Z",
     "iopub.status.idle": "2024-10-23T13:22:15.459089Z",
     "shell.execute_reply": "2024-10-23T13:22:15.458323Z",
     "shell.execute_reply.started": "2024-10-23T13:22:15.452965Z"
    },
    "trusted": true
   },
   "outputs": [],
   "source": [
    "name = 'JEBASTIN'\n",
    "print(name, '\\n',label_to_num(name))"
   ]
  },
  {
   "cell_type": "code",
   "execution_count": null,
   "metadata": {
    "execution": {
     "iopub.execute_input": "2024-10-23T13:22:15.460304Z",
     "iopub.status.busy": "2024-10-23T13:22:15.460002Z",
     "iopub.status.idle": "2024-10-23T13:22:15.81793Z",
     "shell.execute_reply": "2024-10-23T13:22:15.817057Z",
     "shell.execute_reply.started": "2024-10-23T13:22:15.460277Z"
    },
    "trusted": true
   },
   "outputs": [],
   "source": [
    "# Define the threshold for a \"long\" label\n",
    "threshold = 24\n",
    "\n",
    "# Calculate the length of each label in the training set\n",
    "train['label_length'] = train['IDENTITY'].apply(len)\n",
    "\n",
    "# Find labels longer than the threshold\n",
    "long_labels = train[train['label_length'] > threshold]\n",
    "\n",
    "# Count how many labels are longer than the threshold\n",
    "num_long_labels = len(long_labels)\n",
    "\n",
    "# Calculate the percentage of long labels in the dataset\n",
    "percentage_long_labels = (num_long_labels / len(train)) * 100\n",
    "\n",
    "print(f\"Number of labels longer than {threshold} characters: {num_long_labels}\")\n",
    "print(f\"Percentage of long labels in training set: {percentage_long_labels:.2f}%\")\n",
    "\n",
    "# Optional: Plot a histogram of label lengths\n",
    "train['label_length'].plot(kind='hist', bins=range(0, 50, 5), rwidth=0.8)\n",
    "plt.title('Distribution of Label Lengths in Training Set')\n",
    "plt.xlabel('Label Length (characters)')\n",
    "plt.ylabel('Frequency')\n",
    "plt.show()\n"
   ]
  },
  {
   "cell_type": "code",
   "execution_count": null,
   "metadata": {
    "execution": {
     "iopub.execute_input": "2024-10-23T13:22:15.819681Z",
     "iopub.status.busy": "2024-10-23T13:22:15.819255Z",
     "iopub.status.idle": "2024-10-23T13:22:15.85014Z",
     "shell.execute_reply": "2024-10-23T13:22:15.849243Z",
     "shell.execute_reply.started": "2024-10-23T13:22:15.819637Z"
    },
    "trusted": true
   },
   "outputs": [],
   "source": [
    "# Apply the same steps to the validation set\n",
    "valid['label_length'] = valid['IDENTITY'].apply(len)\n",
    "long_labels_valid = valid[valid['label_length'] > threshold]\n",
    "num_long_labels_valid = len(long_labels_valid)\n",
    "percentage_long_labels_valid = (num_long_labels_valid / len(valid)) * 100\n",
    "\n",
    "print(f\"Number of labels longer than {threshold} characters in validation set: {num_long_labels_valid}\")\n",
    "print(f\"Percentage of long labels in validation set: {percentage_long_labels_valid:.2f}%\")\n"
   ]
  },
  {
   "cell_type": "code",
   "execution_count": null,
   "metadata": {
    "execution": {
     "iopub.execute_input": "2024-10-23T13:22:15.85191Z",
     "iopub.status.busy": "2024-10-23T13:22:15.851595Z",
     "iopub.status.idle": "2024-10-23T13:22:16.086559Z",
     "shell.execute_reply": "2024-10-23T13:22:16.085647Z",
     "shell.execute_reply.started": "2024-10-23T13:22:15.851878Z"
    },
    "trusted": true
   },
   "outputs": [],
   "source": [
    "# Plot histogram for both train and validation sets\n",
    "plt.figure(figsize=(10, 5))\n",
    "\n",
    "# Training set\n",
    "plt.hist(train['label_length'], bins=range(0, 50, 5), alpha=0.7, label='Training Set')\n",
    "# Validation set\n",
    "plt.hist(valid['label_length'], bins=range(0, 50, 5), alpha=0.7, label='Validation Set')\n",
    "\n",
    "plt.title('Distribution of Label Lengths in Training and Validation Sets')\n",
    "plt.xlabel('Label Length (characters)')\n",
    "plt.ylabel('Frequency')\n",
    "plt.legend()\n",
    "plt.show()\n"
   ]
  },
  {
   "cell_type": "code",
   "execution_count": null,
   "metadata": {
    "execution": {
     "iopub.execute_input": "2024-10-23T13:22:16.088463Z",
     "iopub.status.busy": "2024-10-23T13:22:16.088059Z",
     "iopub.status.idle": "2024-10-23T13:22:16.11249Z",
     "shell.execute_reply": "2024-10-23T13:22:16.111587Z",
     "shell.execute_reply.started": "2024-10-23T13:22:16.088418Z"
    },
    "trusted": true
   },
   "outputs": [],
   "source": [
    "# Remove rows with label length greater than 24 characters in-place\n",
    "train = train[train['label_length'] <= 24]\n",
    "\n",
    "# Reset index after filtering\n",
    "train.reset_index(drop=True, inplace=True)\n",
    "\n",
    "print(f\"Modified training set size: {len(train)}\")\n"
   ]
  },
  {
   "cell_type": "code",
   "execution_count": null,
   "metadata": {
    "execution": {
     "iopub.execute_input": "2024-10-23T13:22:16.113914Z",
     "iopub.status.busy": "2024-10-23T13:22:16.113639Z",
     "iopub.status.idle": "2024-10-23T13:22:17.552034Z",
     "shell.execute_reply": "2024-10-23T13:22:17.551242Z",
     "shell.execute_reply.started": "2024-10-23T13:22:16.113887Z"
    },
    "trusted": true
   },
   "outputs": [],
   "source": [
    "train_y = np.ones([train_size, max_str_len]) * -1\n",
    "train_label_len = np.zeros([train_size, 1])\n",
    "train_input_len = np.ones([train_size, 1]) * (num_of_timestamps-2)\n",
    "train_output = np.zeros([train_size])\n",
    "\n",
    "for i in range(train_size):\n",
    "    train_label_len[i] = len(train.loc[i, 'IDENTITY'])\n",
    "    train_y[i, 0:len(train.loc[i, 'IDENTITY'])]= label_to_num(train.loc[i, 'IDENTITY'])    "
   ]
  },
  {
   "cell_type": "code",
   "execution_count": null,
   "metadata": {
    "execution": {
     "iopub.execute_input": "2024-10-23T13:22:17.553393Z",
     "iopub.status.busy": "2024-10-23T13:22:17.553136Z",
     "iopub.status.idle": "2024-10-23T13:22:17.727746Z",
     "shell.execute_reply": "2024-10-23T13:22:17.726989Z",
     "shell.execute_reply.started": "2024-10-23T13:22:17.553367Z"
    },
    "trusted": true
   },
   "outputs": [],
   "source": [
    "valid_y = np.ones([valid_size, max_str_len]) * -1\n",
    "valid_label_len = np.zeros([valid_size, 1])\n",
    "valid_input_len = np.ones([valid_size, 1]) * (num_of_timestamps-2)\n",
    "valid_output = np.zeros([valid_size])\n",
    "\n",
    "for i in range(valid_size):\n",
    "    valid_label_len[i] = len(valid.loc[i, 'IDENTITY'])\n",
    "    valid_y[i, 0:len(valid.loc[i, 'IDENTITY'])]= label_to_num(valid.loc[i, 'IDENTITY'])    "
   ]
  },
  {
   "cell_type": "code",
   "execution_count": null,
   "metadata": {
    "execution": {
     "iopub.execute_input": "2024-10-23T13:22:17.729341Z",
     "iopub.status.busy": "2024-10-23T13:22:17.728982Z",
     "iopub.status.idle": "2024-10-23T13:22:17.73671Z",
     "shell.execute_reply": "2024-10-23T13:22:17.73568Z",
     "shell.execute_reply.started": "2024-10-23T13:22:17.729299Z"
    },
    "trusted": true
   },
   "outputs": [],
   "source": [
    "print('True label : ',train.loc[100, 'IDENTITY'] , '\\ntrain_y : ',train_y[100],'\\ntrain_label_len : ',train_label_len[100], \n",
    "      '\\ntrain_input_len : ', train_input_len[100])"
   ]
  },
  {
   "cell_type": "code",
   "execution_count": null,
   "metadata": {
    "execution": {
     "iopub.execute_input": "2024-10-22T15:35:35.760635Z",
     "iopub.status.busy": "2024-10-22T15:35:35.760253Z",
     "iopub.status.idle": "2024-10-22T15:35:38.729078Z",
     "shell.execute_reply": "2024-10-22T15:35:38.728258Z",
     "shell.execute_reply.started": "2024-10-22T15:35:35.760594Z"
    },
    "trusted": true
   },
   "outputs": [],
   "source": [
    "import numpy as np\n",
    "from sklearn.model_selection import train_test_split\n",
    "\n",
    "# Combine training and validation data\n",
    "combined_x = np.concatenate((train_x, valid_x), axis=0)\n",
    "combined_y = np.concatenate((train_y, valid_y), axis=0)\n",
    "\n",
    "# Assuming train_label_len and valid_label_len are also combined\n",
    "combined_label_len = np.concatenate((train_label_len, valid_label_len), axis=0)\n",
    "combined_input_len = np.concatenate((train_input_len, valid_input_len), axis=0)\n",
    "\n",
    "# Split the combined dataset into training and validation sets\n",
    "train_X, valid_X, train_Y, valid_Y, train_input_len, valid_input_len, train_label_len, valid_label_len = train_test_split(\n",
    "    combined_x,\n",
    "    combined_y,\n",
    "    combined_input_len,\n",
    "    combined_label_len,\n",
    "    test_size=0.0909,  # Adjust the split ratio as needed\n",
    "    random_state=42\n",
    ")\n"
   ]
  },
  {
   "cell_type": "code",
   "execution_count": null,
   "metadata": {
    "execution": {
     "iopub.execute_input": "2024-10-22T15:35:38.731277Z",
     "iopub.status.busy": "2024-10-22T15:35:38.730841Z",
     "iopub.status.idle": "2024-10-22T15:35:41.012036Z",
     "shell.execute_reply": "2024-10-22T15:35:41.011109Z",
     "shell.execute_reply.started": "2024-10-22T15:35:38.731231Z"
    },
    "trusted": true
   },
   "outputs": [],
   "source": [
    "from tensorflow.keras.regularizers import l2\n",
    "\n",
    "# Input layer\n",
    "input_data = Input(shape=(256, 64, 1), name='input')\n",
    "\n",
    "# Convolutional layers with L2 regularization\n",
    "inner = Conv2D(32, (3, 3), padding='same', name='conv1', kernel_initializer='he_normal', \n",
    "               kernel_regularizer=l2(0.001))(input_data)  # Lower L2 here\n",
    "inner = BatchNormalization()(inner)\n",
    "inner = Activation('relu')(inner)\n",
    "inner = MaxPooling2D(pool_size=(2, 2), name='max1')(inner)\n",
    "\n",
    "inner = Conv2D(64, (3, 3), padding='same', name='conv2', kernel_initializer='he_normal', \n",
    "               kernel_regularizer=l2(0.001))(inner)  # Lower L2 here\n",
    "inner = BatchNormalization()(inner)\n",
    "inner = Activation('relu')(inner)\n",
    "inner = MaxPooling2D(pool_size=(2, 2), name='max2')(inner)\n",
    "inner = Dropout(0.2)(inner)  # Reduced dropout for conv layers\n",
    "\n",
    "inner = Conv2D(128, (3, 3), padding='same', name='conv3', kernel_initializer='he_normal', \n",
    "               kernel_regularizer=l2(0.001))(inner)  # Lower L2 here\n",
    "inner = BatchNormalization()(inner)\n",
    "inner = Activation('relu')(inner)\n",
    "inner = MaxPooling2D(pool_size=(1, 2), name='max3')(inner)\n",
    "\n",
    "# Added 4th Convolutional Block\n",
    "inner = Conv2D(256, (3, 3), padding='same', name='conv4', kernel_initializer='he_normal', \n",
    "               kernel_regularizer=l2(0.001))(inner)  # Lower L2 here\n",
    "inner = BatchNormalization()(inner)\n",
    "inner = Activation('relu')(inner)\n",
    "inner = MaxPooling2D(pool_size=(1, 2), name='max4')(inner)\n",
    "inner = Dropout(0.2)(inner)  # Reduced dropout for conv layers\n",
    "\n",
    "# Added 5th Convolutional Block\n",
    "inner = Conv2D(512, (3, 3), padding='same', name='conv5', kernel_initializer='he_normal', \n",
    "               kernel_regularizer=l2(0.001))(inner)  # Lower L2 here\n",
    "inner = BatchNormalization()(inner)\n",
    "inner = Activation('relu')(inner)\n",
    "inner = MaxPooling2D(pool_size=(1, 2), name='max5')(inner)\n",
    "inner = Dropout(0.2)(inner)  # Reduced dropout for conv layers\n",
    "\n",
    "# Reshape for RNN\n",
    "inner = Reshape(target_shape=((64, 1024)), name='reshape')(inner)  # Adjusted for larger feature map size\n",
    "inner = Dense(64, activation='relu', kernel_initializer='he_normal', \n",
    "              kernel_regularizer=l2(0.001), name='dense1')(inner)  # Higher L2 here, more important layer\n",
    "\n",
    "# Bidirectional LSTM layers with L2 regularization\n",
    "inner = Bidirectional(LSTM(256, return_sequences=True, dropout=0.3, recurrent_dropout=0.3, \n",
    "                           kernel_regularizer=l2(0.001)), name='lstm1')(inner)  # Balanced Dropout and L2\n",
    "inner = Bidirectional(LSTM(256, return_sequences=True, dropout=0.3, recurrent_dropout=0.3, \n",
    "                           kernel_regularizer=l2(0.001)), name='lstm2')(inner)  # Balanced Dropout and L2\n",
    "\n",
    "# Output layer with L2 regularization\n",
    "inner = Dense(num_of_characters, kernel_initializer='he_normal', \n",
    "              kernel_regularizer=l2(0.001), name='dense2')(inner)  # Regular L2 here\n",
    "y_pred = Activation('softmax', name='softmax')(inner)\n",
    "\n",
    "# Model definition\n",
    "model = Model(inputs=input_data, outputs=y_pred)\n",
    "\n",
    "# Print model summary\n",
    "model.summary()\n"
   ]
  },
  {
   "cell_type": "code",
   "execution_count": null,
   "metadata": {
    "execution": {
     "iopub.execute_input": "2024-10-22T15:35:41.013489Z",
     "iopub.status.busy": "2024-10-22T15:35:41.013202Z",
     "iopub.status.idle": "2024-10-22T15:35:41.018633Z",
     "shell.execute_reply": "2024-10-22T15:35:41.017737Z",
     "shell.execute_reply.started": "2024-10-22T15:35:41.013459Z"
    },
    "trusted": true
   },
   "outputs": [],
   "source": [
    "# the ctc loss function\n",
    "def ctc_lambda_func(args):\n",
    "    y_pred, labels, input_length, label_length = args\n",
    "    # the 2 is critical here since the first couple outputs of the RNN\n",
    "    # tend to be garbage\n",
    "    y_pred = y_pred[:, 2:, :]\n",
    "    return K.ctc_batch_cost(labels, y_pred, input_length, label_length)"
   ]
  },
  {
   "cell_type": "code",
   "execution_count": null,
   "metadata": {
    "execution": {
     "iopub.execute_input": "2024-10-22T15:35:41.020278Z",
     "iopub.status.busy": "2024-10-22T15:35:41.019953Z",
     "iopub.status.idle": "2024-10-22T15:35:41.141029Z",
     "shell.execute_reply": "2024-10-22T15:35:41.140392Z",
     "shell.execute_reply.started": "2024-10-22T15:35:41.020241Z"
    },
    "trusted": true
   },
   "outputs": [],
   "source": [
    "labels = Input(name='gtruth_labels', shape=[max_str_len], dtype='float32')\n",
    "input_length = Input(name='input_length', shape=[1], dtype='int64')\n",
    "label_length = Input(name='label_length', shape=[1], dtype='int64')\n",
    "\n",
    "ctc_loss = Lambda(ctc_lambda_func, output_shape=(1,), name='ctc')([y_pred, labels, input_length, label_length])\n",
    "model_final = Model(inputs=[input_data, labels, input_length, label_length], outputs=ctc_loss)"
   ]
  },
  {
   "cell_type": "code",
   "execution_count": null,
   "metadata": {
    "execution": {
     "iopub.execute_input": "2024-10-22T15:35:41.142408Z",
     "iopub.status.busy": "2024-10-22T15:35:41.142144Z",
     "iopub.status.idle": "2024-10-22T15:35:41.148061Z",
     "shell.execute_reply": "2024-10-22T15:35:41.147199Z",
     "shell.execute_reply.started": "2024-10-22T15:35:41.14238Z"
    },
    "trusted": true
   },
   "outputs": [],
   "source": [
    "from keras.callbacks import EarlyStopping\n",
    "from tensorflow.keras.callbacks import CSVLogger\n",
    "\n",
    "# EarlyStopping callback\n",
    "early_stopping = EarlyStopping(\n",
    "    monitor='val_loss',  # Change to 'val_loss' if you prefer to monitor loss\n",
    "    patience=5,                   # Number of epochs with no improvement after which training will be stopped\n",
    "    restore_best_weights=True,     # Restore the model weights from the epoch with the best value of the monitored quantity\n",
    ")\n",
    "\n",
    "# Create CSVLogger instance\n",
    "csv_logger = CSVLogger('/kaggle/working/training_log.csv', append=False)"
   ]
  },
  {
   "cell_type": "code",
   "execution_count": null,
   "metadata": {
    "execution": {
     "iopub.execute_input": "2024-10-22T15:35:41.149803Z",
     "iopub.status.busy": "2024-10-22T15:35:41.149466Z",
     "iopub.status.idle": "2024-10-22T15:35:41.169461Z",
     "shell.execute_reply": "2024-10-22T15:35:41.168467Z",
     "shell.execute_reply.started": "2024-10-22T15:35:41.149771Z"
    },
    "trusted": true
   },
   "outputs": [],
   "source": [
    "# the loss calculation occurs elsewhere, so we use a dummy lambda function for the loss\n",
    "model_final.compile(loss={'ctc': lambda y_true, y_pred: y_pred}, optimizer=Adam(lr = 0.0001))"
   ]
  },
  {
   "cell_type": "code",
   "execution_count": null,
   "metadata": {
    "execution": {
     "iopub.execute_input": "2024-10-22T15:35:41.172639Z",
     "iopub.status.busy": "2024-10-22T15:35:41.172367Z",
     "iopub.status.idle": "2024-10-22T18:29:47.564445Z",
     "shell.execute_reply": "2024-10-22T18:29:47.563322Z",
     "shell.execute_reply.started": "2024-10-22T15:35:41.172613Z"
    },
    "trusted": true
   },
   "outputs": [],
   "source": [
    "history = model_final.fit(\n",
    "    x=[train_X, train_Y, train_input_len, train_label_len],\n",
    "    y=train_output,\n",
    "    validation_data=([valid_X, valid_Y, valid_input_len, valid_label_len], valid_output),\n",
    "    epochs=50,\n",
    "    batch_size=128,\n",
    "    callbacks=[early_stopping, csv_logger]\n",
    ")"
   ]
  },
  {
   "cell_type": "code",
   "execution_count": null,
   "metadata": {
    "execution": {
     "iopub.execute_input": "2024-10-22T18:29:54.098923Z",
     "iopub.status.busy": "2024-10-22T18:29:54.098517Z",
     "iopub.status.idle": "2024-10-22T18:29:54.269226Z",
     "shell.execute_reply": "2024-10-22T18:29:54.268518Z",
     "shell.execute_reply.started": "2024-10-22T18:29:54.098877Z"
    },
    "trusted": true
   },
   "outputs": [],
   "source": [
    "model_final.save(\"model_upto_50.h5\")"
   ]
  },
  {
   "cell_type": "code",
   "execution_count": null,
   "metadata": {
    "execution": {
     "iopub.execute_input": "2024-10-22T18:32:43.496602Z",
     "iopub.status.busy": "2024-10-22T18:32:43.496223Z",
     "iopub.status.idle": "2024-10-22T19:49:21.428591Z",
     "shell.execute_reply": "2024-10-22T19:49:21.427623Z",
     "shell.execute_reply.started": "2024-10-22T18:32:43.496568Z"
    },
    "trusted": true
   },
   "outputs": [],
   "source": [
    "new_history = model_final.fit(\n",
    "    x=[train_X, train_Y, train_input_len, train_label_len],\n",
    "    y=train_output,\n",
    "    validation_data=([valid_X, valid_Y, valid_input_len, valid_label_len], valid_output),\n",
    "    epochs=150,  # Total number of epochs, including previous ones\n",
    "    initial_epoch=50,  # Start from epoch 51\n",
    "    batch_size=128,\n",
    "    callbacks=[early_stopping, csv_logger]\n",
    ")\n"
   ]
  },
  {
   "cell_type": "code",
   "execution_count": null,
   "metadata": {
    "execution": {
     "iopub.execute_input": "2024-10-22T19:50:33.646761Z",
     "iopub.status.busy": "2024-10-22T19:50:33.646363Z",
     "iopub.status.idle": "2024-10-22T19:50:33.810214Z",
     "shell.execute_reply": "2024-10-22T19:50:33.80949Z",
     "shell.execute_reply.started": "2024-10-22T19:50:33.64671Z"
    },
    "trusted": true
   },
   "outputs": [],
   "source": [
    "model_final.save(\"model_upto_150.h5\")"
   ]
  },
  {
   "cell_type": "code",
   "execution_count": null,
   "metadata": {
    "execution": {
     "iopub.execute_input": "2024-10-22T19:57:03.229558Z",
     "iopub.status.busy": "2024-10-22T19:57:03.229164Z",
     "iopub.status.idle": "2024-10-22T19:57:03.309564Z",
     "shell.execute_reply": "2024-10-22T19:57:03.30863Z",
     "shell.execute_reply.started": "2024-10-22T19:57:03.229519Z"
    },
    "trusted": true
   },
   "outputs": [],
   "source": [
    "model.save(\"model_not_final_150.h5\")"
   ]
  },
  {
   "cell_type": "code",
   "execution_count": null,
   "metadata": {
    "execution": {
     "iopub.execute_input": "2024-10-22T19:51:53.992298Z",
     "iopub.status.busy": "2024-10-22T19:51:53.991957Z",
     "iopub.status.idle": "2024-10-22T19:51:53.997754Z",
     "shell.execute_reply": "2024-10-22T19:51:53.996803Z",
     "shell.execute_reply.started": "2024-10-22T19:51:53.992269Z"
    },
    "trusted": true
   },
   "outputs": [],
   "source": [
    "# Combine the training loss and validation loss from both histories\n",
    "combined_history = {}\n",
    "combined_history['loss'] = history.history['loss'] + new_history.history['loss']\n",
    "combined_history['val_loss'] = history.history['val_loss'] + new_history.history['val_loss']\n"
   ]
  },
  {
   "cell_type": "code",
   "execution_count": null,
   "metadata": {
    "execution": {
     "iopub.execute_input": "2024-10-22T19:52:00.499574Z",
     "iopub.status.busy": "2024-10-22T19:52:00.499228Z",
     "iopub.status.idle": "2024-10-22T19:52:00.691462Z",
     "shell.execute_reply": "2024-10-22T19:52:00.69075Z",
     "shell.execute_reply.started": "2024-10-22T19:52:00.499544Z"
    },
    "trusted": true
   },
   "outputs": [],
   "source": [
    "# Plot the combined training and validation loss\n",
    "plt.figure(figsize=(12, 6))\n",
    "\n",
    "plt.plot(combined_history['loss'], label='Training Loss')\n",
    "plt.plot(combined_history['val_loss'], label='Validation Loss')\n",
    "plt.title('Training and Validation Loss')\n",
    "plt.xlabel('Epochs')\n",
    "plt.ylabel('Loss')\n",
    "plt.legend()\n",
    "plt.show()"
   ]
  },
  {
   "cell_type": "code",
   "execution_count": null,
   "metadata": {
    "execution": {
     "iopub.execute_input": "2024-10-22T19:53:12.785972Z",
     "iopub.status.busy": "2024-10-22T19:53:12.785563Z",
     "iopub.status.idle": "2024-10-22T19:53:18.867131Z",
     "shell.execute_reply": "2024-10-22T19:53:18.86591Z",
     "shell.execute_reply.started": "2024-10-22T19:53:12.785931Z"
    },
    "trusted": true
   },
   "outputs": [],
   "source": [
    "preds = model.predict(valid_x)\n",
    "decoded = K.get_value(K.ctc_decode(preds, input_length=np.ones(preds.shape[0])*preds.shape[1], \n",
    "                                   greedy=True)[0][0])\n",
    "\n",
    "prediction = []\n",
    "for i in range(valid_size):\n",
    "    prediction.append(num_to_label(decoded[i]))"
   ]
  },
  {
   "cell_type": "code",
   "execution_count": null,
   "metadata": {
    "execution": {
     "iopub.execute_input": "2024-10-22T19:53:24.685207Z",
     "iopub.status.busy": "2024-10-22T19:53:24.684842Z",
     "iopub.status.idle": "2024-10-22T19:53:24.724877Z",
     "shell.execute_reply": "2024-10-22T19:53:24.724091Z",
     "shell.execute_reply.started": "2024-10-22T19:53:24.68517Z"
    },
    "trusted": true
   },
   "outputs": [],
   "source": [
    "y_true = valid.loc[0:valid_size, 'IDENTITY']\n",
    "correct_char = 0\n",
    "total_char = 0\n",
    "correct = 0\n",
    "\n",
    "for i in range(valid_size):\n",
    "    pr = prediction[i]\n",
    "    tr = y_true[i]\n",
    "    total_char += len(tr)\n",
    "    \n",
    "    for j in range(min(len(tr), len(pr))):\n",
    "        if tr[j] == pr[j]:\n",
    "            correct_char += 1\n",
    "            \n",
    "    if pr == tr :\n",
    "        correct += 1 \n",
    "    \n",
    "print('Correct characters predicted : %.2f%%' %(correct_char*100/total_char))\n",
    "print('Correct words predicted      : %.2f%%' %(correct*100/valid_size))"
   ]
  },
  {
   "cell_type": "code",
   "execution_count": null,
   "metadata": {
    "trusted": true
   },
   "outputs": [],
   "source": [
    "\n",
    "\n",
    "plt.figure(figsize=(15, 10))\n",
    "for i in range(6):\n",
    "    ax = plt.subplot(2, 3, i+1)\n",
    "    img_dir = '/kaggle/input/handwriting-recognition/test_v2/test/'+test.loc[i, 'FILENAME']\n",
    "    image = cv2.imread(img_dir, cv2.IMREAD_GRAYSCALE)\n",
    "    plt.imshow(image, cmap='gray')\n",
    "    \n",
    "    image = preprocess(image)\n",
    "    image = image/255.\n",
    "    pred = model.predict(image.reshape(1, 256, 64, 1))\n",
    "    decoded = K.get_value(K.ctc_decode(pred, input_length=np.ones(pred.shape[0])*pred.shape[1], \n",
    "                                       greedy=True)[0][0])\n",
    "    plt.title(num_to_label(decoded[0]), fontsize=12)\n",
    "    plt.axis('off')\n",
    "    \n",
    "plt.subplots_adjust(wspace=0.2, hspace=-0.8)"
   ]
  },
  {
   "cell_type": "code",
   "execution_count": null,
   "metadata": {
    "execution": {
     "iopub.execute_input": "2024-10-22T18:30:52.098642Z",
     "iopub.status.busy": "2024-10-22T18:30:52.098273Z",
     "iopub.status.idle": "2024-10-22T18:30:52.298904Z",
     "shell.execute_reply": "2024-10-22T18:30:52.297952Z",
     "shell.execute_reply.started": "2024-10-22T18:30:52.098608Z"
    },
    "trusted": true
   },
   "outputs": [],
   "source": [
    "# Import the required library for plotting\n",
    "import matplotlib.pyplot as plt\n",
    "\n",
    "# Plot the training and validation loss over epochs\n",
    "plt.figure(figsize=(10, 6))\n",
    "\n",
    "# Plot the training loss\n",
    "plt.plot(history.history['loss'], label='Training Loss')\n",
    "\n",
    "# Plot the validation loss\n",
    "plt.plot(history.history['val_loss'], label='Validation Loss')\n",
    "\n",
    "# Add labels and title\n",
    "plt.title('Training and Validation Loss Over Epochs')\n",
    "plt.xlabel('Epochs')\n",
    "plt.ylabel('Loss')\n",
    "plt.legend()\n",
    "\n",
    "# Show the plot\n",
    "plt.show()\n"
   ]
  },
  {
   "cell_type": "code",
   "execution_count": null,
   "metadata": {
    "trusted": true
   },
   "outputs": [],
   "source": [
    "model.save(\"extended_crnn_model_combined_train_valid.h5\")"
   ]
  },
  {
   "cell_type": "code",
   "execution_count": null,
   "metadata": {
    "execution": {
     "iopub.execute_input": "2024-10-22T19:58:35.646269Z",
     "iopub.status.busy": "2024-10-22T19:58:35.645901Z",
     "iopub.status.idle": "2024-10-22T19:58:35.715456Z",
     "shell.execute_reply": "2024-10-22T19:58:35.714467Z",
     "shell.execute_reply.started": "2024-10-22T19:58:35.646226Z"
    },
    "trusted": true
   },
   "outputs": [],
   "source": [
    "import pandas as pd\n",
    "\n",
    "# Existing loss and val_loss values\n",
    "loss_initial = [\n",
    "    27.3748, 23.7283, 22.8093, 19.6996, 13.7676, 9.3792, 7.5753, 6.6913, 6.1320, \n",
    "    5.7143, 5.3807, 5.1257, 4.9028, 4.6972, 4.5307, 4.3612, 4.2143, 4.0946, 3.9639, \n",
    "    3.8326, 3.7417, 3.6280, 3.5335, 3.4467, 3.3555, 3.2656, 3.1985, 3.1261, 3.0572, \n",
    "    2.9862, 2.9258, 2.8701, 2.8190, 2.7655, 2.7112, 2.6577, 2.6144, 2.5684, 2.5343, \n",
    "    2.4822, 2.4441, 2.4199, 2.3779, 2.3304, 2.3003, 2.2581, 2.2367, 2.1934, 2.1669, \n",
    "    2.1491\n",
    "]\n",
    "\n",
    "val_loss_initial = [\n",
    "    25.8614, 23.9250, 22.1027, 16.3845, 10.5517, 8.1299, 6.6331, 6.2241, 5.6428, \n",
    "    5.4575, 4.9368, 4.8372, 4.5101, 4.4439, 4.3372, 4.0736, 3.9975, 3.9212, 3.7392, \n",
    "    3.6703, 3.7071, 3.5766, 3.4913, 3.3830, 3.3948, 3.3272, 3.2310, 3.1923, 3.0979, \n",
    "    3.0958, 3.0387, 2.9921, 2.9622, 2.9373, 2.9184, 2.8740, 2.8316, 2.8284, 2.8135, \n",
    "    2.7806, 2.7739, 2.7130, 2.6768, 2.6947, 2.6989, 2.6717, 2.6276, 2.6442, 2.6122, \n",
    "    2.6036\n",
    "]\n",
    "\n",
    "# Additional loss and val_loss values for epochs 51-72\n",
    "loss_additional = [\n",
    "    2.1101, 2.0877, 2.0680, 2.0340, 2.0061, 1.9789, 1.9559, 1.9465, 1.9035, 1.8779,\n",
    "    1.8618, 1.8471, 1.8399, 1.8073, 1.7801, 1.7618, 1.7447, 1.7263, 1.7152, 1.6914,\n",
    "    1.6729, 1.6570\n",
    "]\n",
    "\n",
    "val_loss_additional = [\n",
    "    2.5843, 2.6211, 2.5751, 2.5722, 2.5447, 2.5733, 2.6169, 2.5212, 2.5644, 2.5152,\n",
    "    2.5367, 2.4765, 2.5227, 2.5091, 2.4982, 2.4821, 2.4661, 2.5226, 2.4909, 2.4938,\n",
    "    2.4903, 2.4811\n",
    "]\n",
    "\n",
    "# Combine initial and additional values\n",
    "loss_combined = loss_initial + loss_additional\n",
    "val_loss_combined = val_loss_initial + val_loss_additional\n",
    "epochs_combined = range(1, len(loss_combined) + 1)\n",
    "\n",
    "# Create a DataFrame to store the values\n",
    "df = pd.DataFrame({\n",
    "    'Epoch': epochs_combined,\n",
    "    'Training Loss': loss_combined,\n",
    "    'Validation Loss': val_loss_combined\n",
    "})\n",
    "\n",
    "# Save the DataFrame to an Excel file\n",
    "df.to_excel('updated_training_loss_history.xlsx', index=False)\n",
    "\n",
    "print(\"Updated training and validation loss saved to 'updated_training_loss_history.xlsx'\")\n"
   ]
  },
  {
   "cell_type": "code",
   "execution_count": null,
   "metadata": {
    "execution": {
     "iopub.execute_input": "2024-10-23T13:28:22.492129Z",
     "iopub.status.busy": "2024-10-23T13:28:22.491797Z",
     "iopub.status.idle": "2024-10-23T13:28:23.846254Z",
     "shell.execute_reply": "2024-10-23T13:28:23.845314Z",
     "shell.execute_reply.started": "2024-10-23T13:28:22.4921Z"
    },
    "trusted": true
   },
   "outputs": [],
   "source": [
    "model = tf.keras.models.load_model(\"/kaggle/input/crnn_not_final/keras/default/1/model_not_final_150.h5\")"
   ]
  },
  {
   "cell_type": "code",
   "execution_count": null,
   "metadata": {
    "execution": {
     "iopub.execute_input": "2024-10-23T13:28:27.830742Z",
     "iopub.status.busy": "2024-10-23T13:28:27.830338Z",
     "iopub.status.idle": "2024-10-23T13:28:38.426394Z",
     "shell.execute_reply": "2024-10-23T13:28:38.425371Z",
     "shell.execute_reply.started": "2024-10-23T13:28:27.830698Z"
    },
    "trusted": true
   },
   "outputs": [],
   "source": [
    "preds = model.predict(valid_x)\n",
    "decoded = K.get_value(K.ctc_decode(preds, input_length=np.ones(preds.shape[0])*preds.shape[1], \n",
    "                                   greedy=True)[0][0])\n",
    "\n",
    "prediction = []\n",
    "for i in range(valid_size):\n",
    "    prediction.append(num_to_label(decoded[i]))"
   ]
  },
  {
   "cell_type": "code",
   "execution_count": null,
   "metadata": {
    "execution": {
     "iopub.execute_input": "2024-10-23T13:28:40.71885Z",
     "iopub.status.busy": "2024-10-23T13:28:40.718423Z",
     "iopub.status.idle": "2024-10-23T13:28:40.760031Z",
     "shell.execute_reply": "2024-10-23T13:28:40.759059Z",
     "shell.execute_reply.started": "2024-10-23T13:28:40.718801Z"
    },
    "trusted": true
   },
   "outputs": [],
   "source": [
    "y_true = valid.loc[0:valid_size, 'IDENTITY']\n",
    "correct_char = 0\n",
    "total_char = 0\n",
    "correct = 0\n",
    "\n",
    "for i in range(valid_size):\n",
    "    pr = prediction[i]\n",
    "    tr = y_true[i]\n",
    "    total_char += len(tr)\n",
    "    \n",
    "    for j in range(min(len(tr), len(pr))):\n",
    "        if tr[j] == pr[j]:\n",
    "            correct_char += 1\n",
    "            \n",
    "    if pr == tr :\n",
    "        correct += 1 \n",
    "    \n",
    "print('Correct characters predicted : %.2f%%' %(correct_char*100/total_char))\n",
    "print('Correct words predicted      : %.2f%%' %(correct*100/valid_size))"
   ]
  },
  {
   "cell_type": "code",
   "execution_count": null,
   "metadata": {
    "execution": {
     "iopub.execute_input": "2024-10-23T13:28:43.645064Z",
     "iopub.status.busy": "2024-10-23T13:28:43.644706Z",
     "iopub.status.idle": "2024-10-23T13:28:44.308765Z",
     "shell.execute_reply": "2024-10-23T13:28:44.307782Z",
     "shell.execute_reply.started": "2024-10-23T13:28:43.645033Z"
    },
    "trusted": true
   },
   "outputs": [],
   "source": [
    "from sklearn.metrics import classification_report\n",
    "\n",
    "# Flatten the predictions and ground truth labels to character level\n",
    "y_true_flat = []\n",
    "y_pred_flat = []\n",
    "\n",
    "for i in range(valid_size):\n",
    "    # Convert the true label to numeric form\n",
    "    true_label = valid.loc[i, 'IDENTITY']\n",
    "    true_label_num = label_to_num(true_label)\n",
    "    \n",
    "    # Add true labels to y_true_flat\n",
    "    y_true_flat.extend(true_label_num)\n",
    "    \n",
    "    # Convert the predicted label to numeric form\n",
    "    pred_label = prediction[i]\n",
    "    pred_label_num = label_to_num(pred_label)\n",
    "    \n",
    "    # Add predicted labels to y_pred_flat\n",
    "    y_pred_flat.extend(pred_label_num)\n",
    "\n",
    "# Ensure both lists are of the same length for evaluation\n",
    "min_length = min(len(y_true_flat), len(y_pred_flat))\n",
    "y_true_flat = y_true_flat[:min_length]\n",
    "y_pred_flat = y_pred_flat[:min_length]\n",
    "\n",
    "# Compute classification report\n",
    "report = classification_report(y_true_flat, y_pred_flat, target_names=list(alphabets), zero_division=0)\n",
    "print(report)\n"
   ]
  },
  {
   "cell_type": "code",
   "execution_count": null,
   "metadata": {},
   "outputs": [],
   "source": []
  }
 ],
 "metadata": {
  "kaggle": {
   "accelerator": "none",
   "dataSources": [
    {
     "datasetId": 818027,
     "sourceId": 1400106,
     "sourceType": "datasetVersion"
    },
    {
     "modelId": 145399,
     "modelInstanceId": 122311,
     "sourceId": 144314,
     "sourceType": "modelInstanceVersion"
    },
    {
     "modelId": 145409,
     "modelInstanceId": 122325,
     "sourceId": 144329,
     "sourceType": "modelInstanceVersion"
    }
   ],
   "dockerImageVersionId": 29994,
   "isGpuEnabled": false,
   "isInternetEnabled": false,
   "language": "python",
   "sourceType": "notebook"
  },
  "kernelspec": {
   "display_name": "Python 3",
   "language": "python",
   "name": "python3"
  },
  "language_info": {
   "codemirror_mode": {
    "name": "ipython",
    "version": 3
   },
   "file_extension": ".py",
   "mimetype": "text/x-python",
   "name": "python",
   "nbconvert_exporter": "python",
   "pygments_lexer": "ipython3",
   "version": "3.7.6"
  }
 },
 "nbformat": 4,
 "nbformat_minor": 4
}
